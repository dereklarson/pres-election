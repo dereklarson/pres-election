{
 "cells": [
  {
   "cell_type": "markdown",
   "metadata": {},
   "source": [
    "# This notebook downloads the 2012/2016 county-level vote data"
   ]
  },
  {
   "cell_type": "code",
   "execution_count": 1,
   "metadata": {
    "collapsed": false
   },
   "outputs": [],
   "source": [
    "from bs4 import BeautifulSoup # for scraping 2016 results\n",
    "\n",
    "import pandas as pd\n",
    "import urllib"
   ]
  },
  {
   "cell_type": "markdown",
   "metadata": {},
   "source": [
    "## 2012: Guardian consolidated county-level vote data"
   ]
  },
  {
   "cell_type": "code",
   "execution_count": 2,
   "metadata": {
    "collapsed": false
   },
   "outputs": [
    {
     "name": "stdout",
     "output_type": "stream",
     "text": [
      "WARNING *** file size (3825153) not 512 + multiple of sector size (512)\n"
     ]
    },
    {
     "data": {
      "text/html": [
       "<div>\n",
       "<table border=\"1\" class=\"dataframe\">\n",
       "  <thead>\n",
       "    <tr style=\"text-align: right;\">\n",
       "      <th></th>\n",
       "      <th>State Postal</th>\n",
       "      <th>FIPS Code</th>\n",
       "      <th>County Name</th>\n",
       "      <th>TOTAL VOTES CAST</th>\n",
       "      <th>Party</th>\n",
       "      <th>Votes</th>\n",
       "      <th>Party.1</th>\n",
       "      <th>Votes.1</th>\n",
       "      <th>Party.2</th>\n",
       "      <th>Votes.2</th>\n",
       "      <th>Party.3</th>\n",
       "      <th>Votes.3</th>\n",
       "      <th>Party.4</th>\n",
       "      <th>Votes.4</th>\n",
       "    </tr>\n",
       "  </thead>\n",
       "  <tbody>\n",
       "    <tr>\n",
       "      <th>0</th>\n",
       "      <td>AK</td>\n",
       "      <td>0</td>\n",
       "      <td>Alaska</td>\n",
       "      <td>220596</td>\n",
       "      <td>Dem</td>\n",
       "      <td>91696</td>\n",
       "      <td>GOP</td>\n",
       "      <td>121234</td>\n",
       "      <td>Lib</td>\n",
       "      <td>5539.0</td>\n",
       "      <td>Grn</td>\n",
       "      <td>2127.0</td>\n",
       "      <td>NaN</td>\n",
       "      <td>NaN</td>\n",
       "    </tr>\n",
       "    <tr>\n",
       "      <th>1</th>\n",
       "      <td>AK</td>\n",
       "      <td>2000</td>\n",
       "      <td>Alaska</td>\n",
       "      <td>220596</td>\n",
       "      <td>Dem</td>\n",
       "      <td>91696</td>\n",
       "      <td>GOP</td>\n",
       "      <td>121234</td>\n",
       "      <td>Lib</td>\n",
       "      <td>5539.0</td>\n",
       "      <td>Grn</td>\n",
       "      <td>2127.0</td>\n",
       "      <td>NaN</td>\n",
       "      <td>NaN</td>\n",
       "    </tr>\n",
       "    <tr>\n",
       "      <th>2</th>\n",
       "      <td>AL</td>\n",
       "      <td>0</td>\n",
       "      <td>Alabama</td>\n",
       "      <td>2064699</td>\n",
       "      <td>Dem</td>\n",
       "      <td>793620</td>\n",
       "      <td>GOP</td>\n",
       "      <td>1252453</td>\n",
       "      <td>Ind</td>\n",
       "      <td>2961.0</td>\n",
       "      <td>Ind</td>\n",
       "      <td>12283.0</td>\n",
       "      <td>Ind</td>\n",
       "      <td>3382.0</td>\n",
       "    </tr>\n",
       "    <tr>\n",
       "      <th>3</th>\n",
       "      <td>AL</td>\n",
       "      <td>1001</td>\n",
       "      <td>Autauga</td>\n",
       "      <td>23909</td>\n",
       "      <td>Dem</td>\n",
       "      <td>6354</td>\n",
       "      <td>GOP</td>\n",
       "      <td>17366</td>\n",
       "      <td>Ind</td>\n",
       "      <td>31.0</td>\n",
       "      <td>Ind</td>\n",
       "      <td>136.0</td>\n",
       "      <td>Ind</td>\n",
       "      <td>22.0</td>\n",
       "    </tr>\n",
       "    <tr>\n",
       "      <th>4</th>\n",
       "      <td>AL</td>\n",
       "      <td>1003</td>\n",
       "      <td>Baldwin</td>\n",
       "      <td>84988</td>\n",
       "      <td>Dem</td>\n",
       "      <td>18329</td>\n",
       "      <td>GOP</td>\n",
       "      <td>65772</td>\n",
       "      <td>Ind</td>\n",
       "      <td>122.0</td>\n",
       "      <td>Ind</td>\n",
       "      <td>597.0</td>\n",
       "      <td>Ind</td>\n",
       "      <td>168.0</td>\n",
       "    </tr>\n",
       "  </tbody>\n",
       "</table>\n",
       "</div>"
      ],
      "text/plain": [
       "  State Postal FIPS Code County Name  TOTAL VOTES CAST Party   Votes Party.1  \\\n",
       "0           AK         0      Alaska            220596   Dem   91696     GOP   \n",
       "1           AK      2000      Alaska            220596   Dem   91696     GOP   \n",
       "2           AL         0     Alabama           2064699   Dem  793620     GOP   \n",
       "3           AL      1001     Autauga             23909   Dem    6354     GOP   \n",
       "4           AL      1003     Baldwin             84988   Dem   18329     GOP   \n",
       "\n",
       "   Votes.1 Party.2  Votes.2 Party.3  Votes.3 Party.4  Votes.4  \n",
       "0   121234     Lib   5539.0     Grn   2127.0     NaN      NaN  \n",
       "1   121234     Lib   5539.0     Grn   2127.0     NaN      NaN  \n",
       "2  1252453     Ind   2961.0     Ind  12283.0     Ind   3382.0  \n",
       "3    17366     Ind     31.0     Ind    136.0     Ind     22.0  \n",
       "4    65772     Ind    122.0     Ind    597.0     Ind    168.0  "
      ]
     },
     "execution_count": 2,
     "metadata": {},
     "output_type": "execute_result"
    }
   ],
   "source": [
    "# import Guardian data\n",
    "# https://www.theguardian.com/news/datablog/2012/nov/07/us-2012-election-county-results-download#data\n",
    "# NOTE: xlrd package needed (not installed by deafault) \n",
    "# to read data and format information from older Excel files (ie: .xls)\n",
    "# get all data within the 'FULL DATA' worksheet and pass it into a DataFrame\n",
    "guardian_full = pd.read_excel('http://image.guardian.co.uk/sys-files/Guardian/documents/2012/11/14/US_elect_county.xls',\n",
    "                     sheetname = 'FULL DATA',\n",
    "                     header = 0,\n",
    "                     index_col=None,\n",
    "                     convert_float = True,\n",
    "                     converters={'FIPS Code':str},\n",
    "                     parse_cols = \"A, D, E, K, M, T, Y, AF, AK, AR, AW, BD, BI, BP\")\n",
    "                     \n",
    "guardian_full.head()"
   ]
  },
  {
   "cell_type": "code",
   "execution_count": 3,
   "metadata": {
    "collapsed": true
   },
   "outputs": [],
   "source": [
    "guardian_full.to_csv('2012_data_Guardian.csv', sep=',')"
   ]
  },
  {
   "cell_type": "markdown",
   "metadata": {},
   "source": [
    "## 2016: Townhall county-by-county vote data"
   ]
  },
  {
   "cell_type": "code",
   "execution_count": 4,
   "metadata": {
    "collapsed": true
   },
   "outputs": [],
   "source": [
    "# each page has a summary table that rolls up results at the state level\n",
    "# get rid of it\n",
    "def cond(x):\n",
    "    if x:\n",
    "        return x.startswith(\"table ec-table\") and not \"table ec-table ec-table-summary\" in x\n",
    "    else:\n",
    "        return False"
   ]
  },
  {
   "cell_type": "code",
   "execution_count": 5,
   "metadata": {
    "collapsed": true
   },
   "outputs": [],
   "source": [
    "# list of state abbreviations\n",
    "states = ['AL','AK','AZ','AR','CA','CO','CT','DC','DE','FL','GA','HI','ID','IL','IN','IA','KS','KY','LA','ME','MD','MA','MI','MN','MS','MO','MT','NE','NV','NH','NJ','NM','NY','NC','ND','OH','OK','OR','PA','RI','SC','SD','TN','TX','UT','VT','VA','WA','WV','WI','WY']\n",
    "\n",
    "# headers for csv export\n",
    "data = [['state_abbr', 'county_name', 'party', 'votes_total_2016']]"
   ]
  },
  {
   "cell_type": "code",
   "execution_count": 6,
   "metadata": {
    "collapsed": false,
    "scrolled": false
   },
   "outputs": [],
   "source": [
    "# loop through each state's web page http://townhall.com/election/2016/president/%s/county, where %s is the state abbr\n",
    "for state in states:\n",
    "    r = urllib.request.urlopen('http://townhall.com/election/2016/president/' + state + '/county').read()\n",
    "    soup = BeautifulSoup(r, \"html.parser\")\n",
    "\n",
    "    # loop through each <table> tag with .ec-table class\n",
    "    tables = soup.findAll('table', attrs={'class':cond})\n",
    "\n",
    "    for table in tables:\n",
    "        if table.findParent(\"table\") is None:\n",
    "            table_body = table.find('tbody')\n",
    "\n",
    "            rows = table_body.find_all('tr')\n",
    "            for row in rows:\n",
    "                cols = row.find_all('td')\n",
    "                # first tbody tr has four td\n",
    "                if len(cols) == 4:\n",
    "                    # strip text from each td\n",
    "                    divs = cols[0].find_all('div')\n",
    "                    county = divs[0].text.strip()\n",
    "                    party = cols[1]['class'][0]\n",
    "                    total_votes_2016 = int(cols[2].text.strip().replace(',','').replace('-','0'))\n",
    "                # all other tbody tr have three td\n",
    "                else:\n",
    "                    party = cols[1]['class'][0]\n",
    "                    total_votes_2016 = int(cols[1].text.strip().replace(',','').replace('-','0'))\n",
    "                    \n",
    "                #combine each row's results\n",
    "                rowData = [state,county,party,total_votes_2016]\n",
    "                data.append(rowData)"
   ]
  },
  {
   "cell_type": "code",
   "execution_count": 7,
   "metadata": {
    "collapsed": false
   },
   "outputs": [
    {
     "name": "stdout",
     "output_type": "stream",
     "text": [
      "14188\n"
     ]
    },
    {
     "data": {
      "text/html": [
       "<div>\n",
       "<table border=\"1\" class=\"dataframe\">\n",
       "  <thead>\n",
       "    <tr style=\"text-align: right;\">\n",
       "      <th></th>\n",
       "      <th>state_abbr</th>\n",
       "      <th>county_name</th>\n",
       "      <th>party</th>\n",
       "      <th>votes_total_2016</th>\n",
       "    </tr>\n",
       "  </thead>\n",
       "  <tbody>\n",
       "    <tr>\n",
       "      <th>1</th>\n",
       "      <td>AL</td>\n",
       "      <td>Autauga</td>\n",
       "      <td>GOP</td>\n",
       "      <td>18110.0</td>\n",
       "    </tr>\n",
       "    <tr>\n",
       "      <th>2</th>\n",
       "      <td>AL</td>\n",
       "      <td>Autauga</td>\n",
       "      <td>DEM</td>\n",
       "      <td>5908.0</td>\n",
       "    </tr>\n",
       "    <tr>\n",
       "      <th>3</th>\n",
       "      <td>AL</td>\n",
       "      <td>Autauga</td>\n",
       "      <td>IND</td>\n",
       "      <td>538.0</td>\n",
       "    </tr>\n",
       "    <tr>\n",
       "      <th>4</th>\n",
       "      <td>AL</td>\n",
       "      <td>Autauga</td>\n",
       "      <td>IND</td>\n",
       "      <td>105.0</td>\n",
       "    </tr>\n",
       "    <tr>\n",
       "      <th>5</th>\n",
       "      <td>AL</td>\n",
       "      <td>Baldwin</td>\n",
       "      <td>GOP</td>\n",
       "      <td>72780.0</td>\n",
       "    </tr>\n",
       "  </tbody>\n",
       "</table>\n",
       "</div>"
      ],
      "text/plain": [
       "0 state_abbr county_name party  votes_total_2016\n",
       "1         AL     Autauga   GOP           18110.0\n",
       "2         AL     Autauga   DEM            5908.0\n",
       "3         AL     Autauga   IND             538.0\n",
       "4         AL     Autauga   IND             105.0\n",
       "5         AL     Baldwin   GOP           72780.0"
      ]
     },
     "execution_count": 7,
     "metadata": {},
     "output_type": "execute_result"
    }
   ],
   "source": [
    "townhall = pd.DataFrame(data) # throw results in dataframe\n",
    "new_header = townhall.iloc[0] #grab the first row for the header\n",
    "townhall = townhall[1:] #take the data less the header row\n",
    "townhall.columns = new_header #set the header row as the df header\n",
    "townhall['votes_total_2016'] = townhall['votes_total_2016'].astype('float64')\n",
    "print(townhall.shape[0])\n",
    "townhall.head()"
   ]
  },
  {
   "cell_type": "code",
   "execution_count": 8,
   "metadata": {
    "collapsed": true
   },
   "outputs": [],
   "source": [
    "townhall.to_csv('2016_data_Townhall.csv', sep=',')"
   ]
  },
  {
   "cell_type": "code",
   "execution_count": null,
   "metadata": {
    "collapsed": true
   },
   "outputs": [],
   "source": []
  }
 ],
 "metadata": {
  "anaconda-cloud": {},
  "kernelspec": {
   "display_name": "Python 3",
   "language": "python",
   "name": "python3"
  },
  "language_info": {
   "codemirror_mode": {
    "name": "ipython",
    "version": 3
   },
   "file_extension": ".py",
   "mimetype": "text/x-python",
   "name": "python",
   "nbconvert_exporter": "python",
   "pygments_lexer": "ipython3",
   "version": "3.5.2"
  }
 },
 "nbformat": 4,
 "nbformat_minor": 1
}
